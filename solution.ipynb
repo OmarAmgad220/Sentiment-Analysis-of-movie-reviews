{
 "cells": [
  {
   "cell_type": "code",
   "execution_count": 1,
   "id": "a2424e55-6411-4ac4-89d4-ca86b8e8606b",
   "metadata": {},
   "outputs": [
    {
     "name": "stderr",
     "output_type": "stream",
     "text": [
      "[nltk_data] Downloading package stopwords to\n",
      "[nltk_data]     C:\\Users\\Makaty\\AppData\\Roaming\\nltk_data...\n",
      "[nltk_data]   Package stopwords is already up-to-date!\n",
      "[nltk_data] Downloading package punkt to\n",
      "[nltk_data]     C:\\Users\\Makaty\\AppData\\Roaming\\nltk_data...\n",
      "[nltk_data]   Package punkt is already up-to-date!\n",
      "[nltk_data] Downloading package wordnet to\n",
      "[nltk_data]     C:\\Users\\Makaty\\AppData\\Roaming\\nltk_data...\n",
      "[nltk_data]   Package wordnet is already up-to-date!\n"
     ]
    }
   ],
   "source": [
    "import os\n",
    "import pandas as pd\n",
    "from sklearn.feature_extraction.text import TfidfVectorizer\n",
    "from sklearn.model_selection import train_test_split\n",
    "from sklearn.linear_model import LogisticRegression\n",
    "from sklearn.svm import SVC\n",
    "from sklearn.metrics import classification_report, accuracy_score\n",
    "\n",
    "\n",
    "import nltk\n",
    "nltk.download('stopwords')\n",
    "nltk.download('punkt')\n",
    "nltk.download('wordnet')\n",
    "\n",
    "from nltk.corpus import stopwords\n",
    "from nltk.tokenize import word_tokenize\n",
    "from nltk.stem import WordNetLemmatizer\n",
    "import string"
   ]
  },
  {
   "cell_type": "code",
   "execution_count": 3,
   "id": "52f0fcbb-a556-4e38-939c-bd1afce694d1",
   "metadata": {},
   "outputs": [],
   "source": [
    "def load_reviews(positive_folder, negative_folder):\n",
    "    reviews = []\n",
    "    labels = []\n",
    "    \n",
    "    # Read positive reviews\n",
    "    for filename in os.listdir(positive_folder):\n",
    "            file_path = os.path.join(positive_folder, filename)\n",
    "            with open(file_path, 'r', encoding='utf-8') as file:\n",
    "                review_text = file.read().strip()\n",
    "                reviews.append(review_text)\n",
    "                labels.append('positive')\n",
    "            \n",
    "    \n",
    "    # Read negative reviews\n",
    "    for filename in os.listdir(negative_folder):\n",
    "            file_path = os.path.join(negative_folder, filename)\n",
    "            with open(file_path, 'r', encoding='utf-8') as file:\n",
    "                review_text = file.read().strip()\n",
    "                reviews.append(review_text)\n",
    "                labels.append('negative')\n",
    "    \n",
    "    # Create DataFrame\n",
    "    df = pd.DataFrame({'review_text': reviews, 'sentiment': labels})\n",
    "    \n",
    "    return df"
   ]
  },
  {
   "cell_type": "code",
   "execution_count": 5,
   "id": "04bc9118-4f4f-458d-bccc-9c9a9c7bf2a8",
   "metadata": {},
   "outputs": [],
   "source": [
    "def preprocess_text(text):\n",
    "    \"\"\"\n",
    "    Preprocess text: lowercase, remove punctuation, tokenize, remove stopwords.\n",
    "    \"\"\"\n",
    "    stop_words = set(stopwords.words('english'))\n",
    "    text = text.lower()\n",
    "    text = text.translate(str.maketrans('', '', string.punctuation))\n",
    "    tokens = word_tokenize(text)\n",
    "    tokens = [word for word in tokens if word not in stop_words]\n",
    "    return ' '.join(tokens)"
   ]
  },
  {
   "cell_type": "code",
   "execution_count": null,
   "id": "bf09936b-76f3-41e7-8de8-68c605eef6bb",
   "metadata": {},
   "outputs": [],
   "source": [
    "# Replace these paths with your actual folder paths\n",
    "pos_folder = 'pos'\n",
    "neg_folder = 'neg'\n",
    "\n",
    "# Load reviews\n",
    "reviews_df = load_reviews(pos_folder, neg_folder)\n",
    "\n",
    "# Preprocess reviews\n",
    "reviews_df['processed_text'] = reviews_df['review_text'].apply(preprocess_text)\n",
    "\n",
    "# Convert sentiments to binary (positive=1, negative=0)\n",
    "reviews_df['sentiment_label'] = reviews_df['sentiment'].map({'positive': 1, 'negative': 0})\n",
    "\n",
    "# Apply TF-IDF vectorization\n",
    "tfidf_vectorizer = TfidfVectorizer(max_features=2000)  # Limit to top 2000 features\n",
    "X = tfidf_vectorizer.fit_transform(reviews_df['processed_text'])\n",
    "y = reviews_df['sentiment_label']\n",
    "\n",
    "# Split data into training and testing sets\n",
    "X_train, X_test, y_train, y_test = train_test_split(X, y, test_size=0.2, random_state=42, stratify=y)\n",
    "\n",
    "# Train SVM classifier\n",
    "model = SVC(kernel='linear', C=1.6)\n",
    "model.fit(X_train, y_train)\n",
    "\n",
    "# Predict on test set\n",
    "y_pred = model.predict(X_test)\n",
    "\n",
    "# Evaluate the model\n",
    "print(\"Model Performance:\")\n",
    "print(f\"Accuracy: {accuracy_score(y_test, y_pred):.4f}\")\n",
    "print(\"\\nClassification Report:\")\n",
    "print(classification_report(y_test, y_pred, target_names=['Negative', 'Positive']))\n",
    "\n",
    "# Save the DataFrame with processed data\n",
    "reviews_df.to_csv('processed_movie_reviews.csv', index=False)\n",
    "print(\"\\nProcessed DataFrame saved to 'processed_movie_reviews.csv'\")\n",
    "\n",
    "\n",
    "    \n"
   ]
  },
  {
   "cell_type": "code",
   "execution_count": null,
   "id": "c43dbabf-33a5-4512-bb00-f53e572bec4e",
   "metadata": {},
   "outputs": [],
   "source": []
  }
 ],
 "metadata": {
  "kernelspec": {
   "display_name": "Python [conda env:base] *",
   "language": "python",
   "name": "conda-base-py"
  },
  "language_info": {
   "codemirror_mode": {
    "name": "ipython",
    "version": 3
   },
   "file_extension": ".py",
   "mimetype": "text/x-python",
   "name": "python",
   "nbconvert_exporter": "python",
   "pygments_lexer": "ipython3",
   "version": "3.12.7"
  }
 },
 "nbformat": 4,
 "nbformat_minor": 5
}
